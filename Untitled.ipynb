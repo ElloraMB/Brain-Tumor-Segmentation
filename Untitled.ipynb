{
 "cells": [
  {
   "cell_type": "code",
   "execution_count": 2,
   "id": "c082f0c3",
   "metadata": {},
   "outputs": [],
   "source": [
    "import os\n",
    "import argparse\n",
    "import sys\n",
    "import numpy as np\n",
    "import hdf5storage\n",
    "import cv2\n",
    "import matplotlib.pyplot as plt"
   ]
  },
  {
   "cell_type": "code",
   "execution_count": 3,
   "id": "2c028a26",
   "metadata": {},
   "outputs": [],
   "source": [
    "class NoDataFound(Exception):\n",
    "    pass"
   ]
  },
  {
   "cell_type": "code",
   "execution_count": 11,
   "id": "9c116065",
   "metadata": {},
   "outputs": [],
   "source": [
    "def dir_path(path):\n",
    "    path = path.replace('\\\\', '/')\n",
    "    data_path = os.path.join(path,'data').replace('\\\\', '/')\n",
    "    \n",
    "    if os.path.isdir(data_path):\n",
    "        return path\n",
    "    elif os.path.isdir(path):\n",
    "        raise NoDataFound ('Could not found a \"data\" folder inside directory'.format(data_path))\n",
    "    else:\n",
    "        NotADirectoryError(path)              "
   ]
  },
  {
   "cell_type": "code",
   "execution_count": 14,
   "id": "878a1b80",
   "metadata": {},
   "outputs": [],
   "source": [
    "path = 'C:/Users/ellor/Documents/Brain Tumor Segmentation/'\n",
    "parser = argparse.ArgumentParser()\n",
    "parser.add_argument('path', help='path to the brain_tumor_dataset directory', type=dir_path)\n",
    "parser.add_argument('--image-dimension', '-d', default=512, help='dimension of the image', type=int)\n",
    "argument = parser.parse_args(args=[path])"
   ]
  },
  {
   "cell_type": "code",
   "execution_count": null,
   "id": "d200980e",
   "metadata": {},
   "outputs": [],
   "source": [
    "labels = []\n",
    "images = []\n",
    "masks = []\n",
    "\n",
    "data_dir = os.path.join(args.path, 'data').replace('\\\\', '/')\n",
    "files = os.listdir(data_dir)\n",
    "for i, file in enumerate(files, start=1):\n",
    "    if i%10 ==0:\n",
    "        sys.stdout.write('\\r[{}/{}] images loaded: {:.1f} %'.format(i,len(files), i/float(len(files))*100))\n",
    "        sys.stdout.flush()\n",
    "        \n",
    "    mat_file = hdf5storage.load_mat(os.path.join(data_dir, file))['cjdata'][0]\n",
    "    \n",
    "    image = cv2.resize(mat_file[2], dsize=(args.image_dimension, args.image_dimension), interpolation = cv2.INTER_CUBIC)\n",
    "    \n",
    "    \n",
    "    "
   ]
  }
 ],
 "metadata": {
  "kernelspec": {
   "display_name": "Python 3 (ipykernel)",
   "language": "python",
   "name": "python3"
  },
  "language_info": {
   "codemirror_mode": {
    "name": "ipython",
    "version": 3
   },
   "file_extension": ".py",
   "mimetype": "text/x-python",
   "name": "python",
   "nbconvert_exporter": "python",
   "pygments_lexer": "ipython3",
   "version": "3.10.9"
  }
 },
 "nbformat": 4,
 "nbformat_minor": 5
}
